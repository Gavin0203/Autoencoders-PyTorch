{
 "cells": [
  {
   "cell_type": "code",
   "execution_count": null,
   "metadata": {},
   "outputs": [],
   "source": [
    "import torch\n",
    "import torch.nn as nn\n",
    "import torch.optim as optim\n",
    "from torchvision import datasets, transforms\n",
    "import matplotlib.pyplot as plt"
   ]
  },
  {
   "cell_type": "code",
   "execution_count": null,
   "metadata": {},
   "outputs": [],
   "source": [
    "#DATA LOADER - 1\n",
    "transform = transforms.ToTensor()\n",
    "\n",
    "mnist_data = datasets.MNIST(root = './data',train = True, download = True, transform = transform)\n",
    "\n",
    "data_loader = torch.utils.data.DataLoader(dataset = mnist_data, bathc_size = 64, shuffle = True)"
   ]
  },
  {
   "cell_type": "markdown",
   "metadata": {},
   "source": [
    "Data Loader 2 with Normalize\n"
   ]
  },
  {
   "cell_type": "code",
   "execution_count": null,
   "metadata": {},
   "outputs": [],
   "source": [
    "#DATA LOADER - 2\n",
    "transform = transforms.Compose([\n",
    "    transforms.ToTensor(),\n",
    "    transforms.Normalize((0.5),(0.5))  #((Mean), (SD))\n",
    "])\n",
    "\n",
    "mnist_data = datasets.MNIST(root = './data',train = True, download = True, transform = transform)\n",
    "\n",
    "data_loader = torch.utils.data.DataLoader(dataset = mnist_data, bathc_size = 64, shuffle = True)"
   ]
  },
  {
   "cell_type": "code",
   "execution_count": null,
   "metadata": {},
   "outputs": [],
   "source": [
    "#Visualizing the first set of images or batch of images using iter.\n",
    "\n",
    "dataiter = iter(data_loader)\n",
    "images, labels = dataiter.next()\n",
    "print(torch.min(images),torch.max(images))"
   ]
  },
  {
   "cell_type": "code",
   "execution_count": null,
   "metadata": {},
   "outputs": [],
   "source": [
    "from turtle import forward\n",
    "\n",
    "\n",
    "class Autoencoder(nn.Module):\n",
    "    def __init__(self):\n",
    "        super().__init__()\n",
    "        #The goal is to repeatedly reduce size.\n",
    "        #Initial size --> N, 785 (N --> Batch size, 28*28 -> Pixels of images in the dataset)\n",
    "        self.encoder = nn.Sequential(\n",
    "            nn.Linear(28*28,128), #Reduce size by N,784 --> N,128\n",
    "            nn.ReLU(),\n",
    "            nn.Linear(128,64),\n",
    "            nn.ReLU(),\n",
    "            nn.Linear(64,12),\n",
    "            nn.ReLU(),\n",
    "            nn.Linear(12,3), # -> N,3\n",
    "        )\n",
    "\n",
    "        self.decoder = nn.Sequential(\n",
    "            nn.Linear(3,12),\n",
    "            nn.ReLU(),\n",
    "            nn.Linear(12,64),\n",
    "            nn.ReLU(),\n",
    "            nn.Linear(64,128),\n",
    "            nn.ReLU(),\n",
    "            nn.Linear(128,28*28), # -> Reduce size by N,3 --> N,784\n",
    "            nn.Sigmoid() # We use Sigmoid as the value of the image pixel tensors are between 0 and 1.\n",
    "        )\n",
    "         \n",
    "\n",
    "    def forward(self,x):\n",
    "        encoded = self.encoder(x)\n",
    "        decoded = self.decoder(encoded)\n",
    "        return decoded\n",
    "    \n",
    "#Note : [-1, 1] -> nn.Tanh  --> Can happen if you use normalisation in the dataloader step as shown above in the data loader 2 section.\n"
   ]
  },
  {
   "cell_type": "code",
   "execution_count": null,
   "metadata": {},
   "outputs": [],
   "source": [
    "model = Autoencoder()\n",
    "criterion = nn.MSELoss()\n",
    "optimizer = torch.optim.Adam(model.parameters(), lr = 1e-3, weight_decay = 1e-5)"
   ]
  },
  {
   "cell_type": "code",
   "execution_count": null,
   "metadata": {},
   "outputs": [],
   "source": [
    "#Training\n",
    "num_epochs = 10 \n",
    "outputs = []\n",
    "\n",
    "for epoch in range(num_epochs):\n",
    "    for (img,_) in data_loader:\n",
    "        img = img.reshape(-1,28*28)\n",
    "        recon = model(img)   #reconstructed image\n",
    "        loss = criterion(recon,img)\n",
    "\n",
    "        optimizer.zero_grad()\n",
    "        loss.backward()\n",
    "        optimizer.step()\n",
    "    \n",
    "    print(f'Epoch : {epoch+1}, Loss : {loss.item():.4f}')\n",
    "    outputs.appen((epoch, img, recon))"
   ]
  },
  {
   "cell_type": "code",
   "execution_count": null,
   "metadata": {},
   "outputs": [],
   "source": [
    "#Plot images to check\n",
    "\n",
    "for k in range(0,num_epochs,4):\n",
    "    plt.figure(figsize=(9,2))\n",
    "    plt.gray()\n",
    "    imgs = outputs[k][1].detach().numpy()\n",
    "    recon = outputs[k][2].detach().numpy()\n",
    "\n",
    "    for i, item in enumerate(imgs):\n",
    "        if i >= 9: break\n",
    "        plt.subplot(2,9,i+1)\n",
    "        #items : 1,28,28\n",
    "        item = item.reshape(-1,28,28)\n",
    "        plt.imshow(item[0])\n",
    "    \n",
    "    for i, item in enumerate(recon):\n",
    "        if i >= 9: break\n",
    "        plt.subplot(2,9,9+i+1) #row_length + i + 1\n",
    "        item = item.reshape(-1,28,28)\n",
    "        #items : 1,28,28\n",
    "        plt.imshow(item[0])\n"
   ]
  },
  {
   "cell_type": "markdown",
   "metadata": {},
   "source": [
    "Autoencoder With the CNN network"
   ]
  },
  {
   "cell_type": "code",
   "execution_count": null,
   "metadata": {},
   "outputs": [],
   "source": [
    "from turtle import forward\n",
    "\n",
    "\n",
    "class Autoencoder_cnn(nn.Module):\n",
    "    def __init__(self):\n",
    "        super().__init__()\n",
    "        #The goal is to repeatedly reduce size.\n",
    "        #Initial size --> N,1, 28, 28 (N --> Batch size, 28*28 -> Pixels of images in the dataset)\n",
    "        self.encoder = nn.Sequential(\n",
    "            nn.Conv2d(1,16,3,stride =2, padding =1), # 1--> Input channel , 16 --> Output channels, 3 --> Kernel size,   Layer output size = N, 16, 14, 14\n",
    "            nn.ReLU(),\n",
    "            nn.Conv2d(16,32,3,stride =2, padding =1), # N, 32 , 7, 7 \n",
    "            nn.ReLU(),\n",
    "            nn.Conv2d(32, 64 , 7)  # N, 64, 1 , 1 \n",
    "            # Above we increase the channels and decrease the size of the image.\n",
    "        )\n",
    "\n",
    "        self.decoder = nn.Sequential(\n",
    "            nn.ConvTranspose2d(64, 32, 7), # N, 32, 7 , 7 \n",
    "            nn.ReLU(),\n",
    "            nn.ConvTranspose2d(32,16,3,stride =2, padding =1,output_padding = 1), # N, 16, 14, 14. output_padding :  Add zeroes to get 14,14 else 13,13\n",
    "            nn.ReLU(),\n",
    "            nn.ConvTranspose2d(16,1,3,stride =2, padding =1,output_padding = 1)  # N, 1, 27,27 after output_padding --> N,1,28,28\n",
    "            nn.Sigmoid()\n",
    "        )\n",
    "         \n",
    "\n",
    "    def forward(self,x):\n",
    "        encoded = self.encoder(x)\n",
    "        decoded = self.decoder(encoded)\n",
    "        return decoded\n",
    "    \n",
    "#Note : [-1, 1] -> nn.Tanh  --> Can happen if you use normalisation in the dataloader step as shown above in the data loader 2 section.\n",
    "#If you use nn.MaxPool2d then use nn.MaxUnpool2d in Decoder block."
   ]
  },
  {
   "cell_type": "code",
   "execution_count": null,
   "metadata": {},
   "outputs": [],
   "source": [
    "model = Autoencoder_cnn()\n",
    "criterion = nn.MSELoss()\n",
    "optimizer = torch.optim.Adam(model.parameters(), lr = 1e-3, weight_decay = 1e-5)"
   ]
  },
  {
   "cell_type": "code",
   "execution_count": null,
   "metadata": {},
   "outputs": [],
   "source": [
    "#Training\n",
    "num_epochs = 10 \n",
    "outputs = []\n",
    "\n",
    "for epoch in range(num_epochs):\n",
    "    for (img,_) in data_loader:\n",
    "        img = img.reshape(-1,28*28)\n",
    "        recon = model(img)   #reconstructed image\n",
    "        loss = criterion(recon,img)\n",
    "\n",
    "        optimizer.zero_grad()\n",
    "        loss.backward()\n",
    "        optimizer.step()\n",
    "    \n",
    "    print(f'Epoch : {epoch+1}, Loss : {loss.item():.4f}')\n",
    "    outputs.appen((epoch, img, recon))"
   ]
  },
  {
   "cell_type": "code",
   "execution_count": null,
   "metadata": {},
   "outputs": [],
   "source": [
    "#Plot images to check\n",
    "\n",
    "for k in range(0,num_epochs,4):\n",
    "    plt.figure(figsize=(9,2))\n",
    "    plt.gray()\n",
    "    imgs = outputs[k][1].detach().numpy()\n",
    "    recon = outputs[k][2].detach().numpy()\n",
    "\n",
    "    for i, item in enumerate(imgs):\n",
    "        if i >= 9: break\n",
    "        plt.subplot(2,9,i+1)\n",
    "        #items : 1,28,28\n",
    "\n",
    "        plt.imshow(item[0])\n",
    "    \n",
    "    for i, item in enumerate(recon):\n",
    "        if i >= 9: break\n",
    "        plt.subplot(2,9,9+i+1) #row_length + i + 1\n",
    "        #items : 1,28,28\n",
    "        plt.imshow(item[0])\n"
   ]
  }
 ],
 "metadata": {
  "kernelspec": {
   "display_name": "Python 3.9.6 64-bit",
   "language": "python",
   "name": "python3"
  },
  "language_info": {
   "name": "python",
   "version": "3.9.6"
  },
  "orig_nbformat": 4,
  "vscode": {
   "interpreter": {
    "hash": "a9c6429d8262db06729814ff2ffaea1a754039a01002530a8bc52678d5943df7"
   }
  }
 },
 "nbformat": 4,
 "nbformat_minor": 2
}
